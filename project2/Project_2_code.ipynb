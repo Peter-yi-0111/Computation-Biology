{
 "cells": [
  {
   "cell_type": "code",
   "execution_count": 1,
   "id": "0300b448",
   "metadata": {},
   "outputs": [],
   "source": [
    "import Bio.SeqIO\n",
    "import numpy as np\n",
    "import math\n",
    "from tqdm import tqdm\n",
    "import matplotlib.pyplot as plt"
   ]
  },
  {
   "cell_type": "code",
   "execution_count": 2,
   "id": "fc64d639",
   "metadata": {},
   "outputs": [],
   "source": [
    "def MSA_gapstrip(MSA,rate):\n",
    "    gap_count = 0\n",
    "    gap_index = []\n",
    "    MSA_nogap = []\n",
    "    \n",
    "    for i in range(len(MSA[0])):\n",
    "        for j in range(len(MSA)):\n",
    "            if(MSA[j][i] == '-'):\n",
    "                gap_count = gap_count + 1\n",
    "        if(gap_count/len(MSA) > rate):\n",
    "            gap_index.append(i)\n",
    "        gap_count = 0\n",
    "    \n",
    "    for index in gap_index:\n",
    "        for k in range(len(MSA)):\n",
    "            if (index == 0 ):\n",
    "                MSA[k] =  \" \" + MSA[k][1:]\n",
    "            else:\n",
    "                MSA[k] = MSA[k][:index] + \" \" + MSA[k][index+1:]\n",
    "    \n",
    "    for i in range(len(MSA)):\n",
    "        MSA_nogap.append(str(MSA[i]).replace(\" \",\"\"))\n",
    "\n",
    "    return MSA_nogap\n",
    "\n",
    "\n",
    "\n",
    "def MI_score(MSA_nogap):\n",
    "    \n",
    "    AMINO = ['A','C','D','E','F','G','H','I','K','L','M','N','P','Q','R','S','T','V','W','X','Y'] #21\n",
    "    MI_score = []\n",
    "    \n",
    "    \n",
    "    for i in tqdm(range(len(MSA_nogap[0]))):\n",
    "        for j in range(len(MSA_nogap[0])):\n",
    "            \n",
    "            MI_temp = []\n",
    "            for a_num in range(len(AMINO)):\n",
    "\n",
    "                a = AMINO[a_num]\n",
    "                Pa = 0\n",
    "                for length in range(len(MSA_nogap)):\n",
    "                    if (a == MSA_nogap[length][i]):\n",
    "                        Pa = Pa + 1\n",
    "                Pa = Pa / len(MSA_nogap)\n",
    "\n",
    "                for b_num in range(len(AMINO)):\n",
    "\n",
    "                    b = AMINO[b_num]\n",
    "                    Pb = 0\n",
    "                    Pab = 0\n",
    "                    for length in range(len(MSA_nogap)):\n",
    "                        if (b == MSA_nogap[length][j]):\n",
    "                            Pb = Pb + 1\n",
    "                        if (a == MSA_nogap[length][i] and b == MSA_nogap[length][j]):\n",
    "                            Pab = Pab + 1\n",
    "                    Pb = Pb / len(MSA_nogap)\n",
    "                    Pab = Pab / len(MSA_nogap)\n",
    "                    if(Pa*Pb == 0 or Pab == 0):\n",
    "                        MI = 0\n",
    "                    else:\n",
    "                        MI = Pab * math.log(Pab/(Pa*Pb))\n",
    "\n",
    "                    MI_temp.append(MI)\n",
    "            MI_score.append((i,j,sum(MI_temp)))\n",
    "            \n",
    "    return MI_score\n",
    "\n",
    "\n",
    "def draw(MI):\n",
    "    \n",
    "    #normalize\n",
    "    matrix = []\n",
    "\n",
    "    temp = []\n",
    "    temp.append(MI[0][2])\n",
    "    for i in range(1,len(MI)):\n",
    "        if(MI[i][0] == MI[i-1][0]):\n",
    "            temp.append(MI[i][2])\n",
    "        else:\n",
    "            matrix.append(temp)\n",
    "            temp = []\n",
    "            temp.append(MI[i][2])\n",
    "\n",
    "    matrix.append(temp)\n",
    "    \n",
    "    maxvalue = 0\n",
    "    for i in range(len(matrix)):\n",
    "        if(max(matrix[i]) > maxvalue):\n",
    "            maxvalue = max(matrix[i])\n",
    "\n",
    "    normalize_matrix = matrix/maxvalue\n",
    "    \n",
    "    #draw\n",
    "    plt.imshow(normalize_matrix, interpolation='nearest', cmap=plt.cm.binary)\n",
    "    plt.colorbar()\n",
    "    \n",
    "    return normalize_matrix"
   ]
  },
  {
   "cell_type": "code",
   "execution_count": 3,
   "id": "e0743e32",
   "metadata": {},
   "outputs": [
    {
     "name": "stdout",
     "output_type": "stream",
     "text": [
      "ID: tetR_N\n",
      "Name: tetR_N\n",
      "Description: tetR_N\n",
      "Number of features: 0\n",
      "Seq('VINSALELLNEVGIEGLTTRPLAQKLGVEQPTLYWHVKNKRALL')\n"
     ]
    }
   ],
   "source": [
    "for record in Bio.SeqIO.parse(\"data/tetR_N.fasta\",\"fasta\"): \n",
    "    print(record)"
   ]
  },
  {
   "cell_type": "code",
   "execution_count": 4,
   "id": "7feee7fd",
   "metadata": {},
   "outputs": [],
   "source": [
    "#MSA num 41550 \n",
    "MSA = []\n",
    "for record in Bio.SeqIO.parse(\"MSA.fasta\",\"fasta\"):\n",
    "    MSA.append(record.seq)"
   ]
  },
  {
   "cell_type": "code",
   "execution_count": 5,
   "id": "0b262453",
   "metadata": {},
   "outputs": [
    {
     "data": {
      "text/plain": [
       "'--------------------LIEAA-FNQ-LS-AE----H-S-----F----S----N---L--S-LRE----VAR--EA---G---I---A--P--T--S--F-Y-R-HF-----K-DMNELGLT-L-------------------'"
      ]
     },
     "execution_count": 5,
     "metadata": {},
     "output_type": "execute_result"
    }
   ],
   "source": [
    "#MSA example\n",
    "str(MSA[0])"
   ]
  },
  {
   "cell_type": "code",
   "execution_count": 7,
   "id": "171a3345",
   "metadata": {},
   "outputs": [
    {
     "name": "stdout",
     "output_type": "stream",
     "text": [
      "rate: 1  ,sequence_length: 147\n",
      "rate: 0.95  ,sequence_length: 54\n",
      "rate: 0.9  ,sequence_length: 51\n",
      "rate: 0.8  ,sequence_length: 50\n",
      "rate: 0.7  ,sequence_length: 49\n",
      "rate: 0.6  ,sequence_length: 48\n",
      "rate: 0.5  ,sequence_length: 47\n",
      "rate: 0.4  ,sequence_length: 46\n",
      "rate: 0.3  ,sequence_length: 45\n",
      "rate: 0.2  ,sequence_length: 44\n",
      "rate: 0.1  ,sequence_length: 41\n",
      "rate: 0  ,sequence_length: 0\n"
     ]
    }
   ],
   "source": [
    "#gap_strip\n",
    "rate_list = [1,0.95,0.9,0.8,0.7,0.6,0.5,0.4,0.3,0.2,0.1,0]\n",
    "for rate in rate_list:\n",
    "    \n",
    "    MSA = []\n",
    "    for record in Bio.SeqIO.parse(\"MSA.fasta\",\"fasta\"):\n",
    "        MSA.append(record.seq)\n",
    "        \n",
    "    MSA_nogap = MSA_gapstrip(MSA,rate)\n",
    "    print(\"rate:\",rate ,\" ,sequence_length:\",len(MSA_nogap[0]))"
   ]
  },
  {
   "cell_type": "markdown",
   "id": "0e327167",
   "metadata": {},
   "source": [
    "Because the sequence:'VINSALELLNEVGIEGLTTRPLAQKLGVEQPTLYWHVKNKRALL' is length 44,\n",
    "So we choose the rate = 0.2, and make the MSA_nogap sequence length is 44 too."
   ]
  },
  {
   "cell_type": "code",
   "execution_count": 33,
   "id": "3e175ae6",
   "metadata": {},
   "outputs": [
    {
     "name": "stdout",
     "output_type": "stream",
     "text": [
      "rate: 0.7  ,sequence_length: 49\n"
     ]
    }
   ],
   "source": [
    "MSA = []\n",
    "for record in Bio.SeqIO.parse(\"MSA.fasta\",\"fasta\"):\n",
    "    MSA.append(record.seq)\n",
    "        \n",
    "rate = 0.7\n",
    "MSA_nogap = MSA_gapstrip(MSA,rate)\n",
    "print(\"rate:\",rate ,\" ,sequence_length:\",len(MSA_nogap[0]))"
   ]
  },
  {
   "cell_type": "code",
   "execution_count": 34,
   "id": "1baf4661",
   "metadata": {},
   "outputs": [
    {
     "data": {
      "text/plain": [
       "'-LIEAAFNQLSEHSFSNLSLREVAREAGIAPTSFYRHFKDMNELGLT-L'"
      ]
     },
     "execution_count": 34,
     "metadata": {},
     "output_type": "execute_result"
    }
   ],
   "source": [
    "#MSA_nogap example\n",
    "MSA_nogap[0]"
   ]
  },
  {
   "cell_type": "code",
   "execution_count": 30,
   "id": "b053c95d",
   "metadata": {},
   "outputs": [
    {
     "name": "stderr",
     "output_type": "stream",
     "text": [
      "100%|████████████████████████████████████████| 51/51 [1:42:54<00:00, 121.07s/it]\n"
     ]
    }
   ],
   "source": [
    "#now we calucte the MI score\n",
    "MI_score_list = MI_score(MSA_nogap)"
   ]
  },
  {
   "cell_type": "code",
   "execution_count": 31,
   "id": "11d7e975",
   "metadata": {},
   "outputs": [],
   "source": [
    "np.save(\"MI_score/MI_score_49\",MI_score_list)"
   ]
  },
  {
   "cell_type": "code",
   "execution_count": 32,
   "id": "2fc2662e",
   "metadata": {},
   "outputs": [
    {
     "data": {
      "image/png": "[encoded data removed]",
      "text/plain": [
       "<Figure size 640x480 with 2 Axes>"
      ]
     },
     "metadata": {},
     "output_type": "display_data"
    }
   ],
   "source": [
    "a = np.load(\"MI_score/MI_score_49.npy\")\n",
    "b = draw(a)"
   ]
  }
 ],
 "metadata": {
  "kernelspec": {
   "display_name": "Python 3 (ipykernel)",
   "language": "python",
   "name": "python3"
  },
  "language_info": {
   "codemirror_mode": {
    "name": "ipython",
    "version": 3
   },
   "file_extension": ".py",
   "mimetype": "text/x-python",
   "name": "python",
   "nbconvert_exporter": "python",
   "pygments_lexer": "ipython3",
   "version": "3.10.6"
  }
 },
 "nbformat": 4,
 "nbformat_minor": 5
}
